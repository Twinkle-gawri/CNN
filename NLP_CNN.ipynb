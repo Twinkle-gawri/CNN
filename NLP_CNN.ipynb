{
  "nbformat": 4,
  "nbformat_minor": 0,
  "metadata": {
    "colab": {
      "provenance": [],
      "gpuType": "T4",
      "authorship_tag": "ABX9TyMlRpK8MQlPTlaSqdyk2zFG",
      "include_colab_link": true
    },
    "kernelspec": {
      "name": "python3",
      "display_name": "Python 3"
    },
    "language_info": {
      "name": "python"
    },
    "accelerator": "GPU"
  },
  "cells": [
    {
      "cell_type": "markdown",
      "metadata": {
        "id": "view-in-github",
        "colab_type": "text"
      },
      "source": [
        "<a href=\"https://colab.research.google.com/github/Twinkle-gawri/CNN/blob/main/NLP_CNN.ipynb\" target=\"_parent\"><img src=\"https://colab.research.google.com/assets/colab-badge.svg\" alt=\"Open In Colab\"/></a>"
      ]
    },
    {
      "cell_type": "code",
      "execution_count": null,
      "metadata": {
        "id": "KRtA9qpBqDef"
      },
      "outputs": [],
      "source": [
        "# filter or kernal functions are used 3*3 example\n",
        "# filter -- woh patterns ko detect karta h --> new matrix generate karta woh size small hota h --> patterns learn karta h\n",
        "# padding -- make size same of input and output -- karte nhi h\n",
        "# pooling -- main features learn karti h,dimensions kam karti h\n",
        "# batch normalisation -- values normalise karta h , reasons -- filter different hote h -- output vary karta h bht toh output ko same range me laane ke liye"
      ]
    },
    {
      "cell_type": "code",
      "source": [
        "import tensorflow as tf\n",
        "from tensorflow import keras\n",
        "from tensorflow.keras import layers,Sequential\n",
        "from tensorflow.keras.layers import Dense,Flatten,Conv2D,MaxPooling2D,BatchNormalization\n",
        "from tensorflow.keras.datasets import cifar10"
      ],
      "metadata": {
        "id": "Q4OfbHh7rf_K"
      },
      "execution_count": 1,
      "outputs": []
    },
    {
      "cell_type": "code",
      "source": [
        "(x_train,y_train),(x_test,y_test) = cifar10.load_data()"
      ],
      "metadata": {
        "colab": {
          "base_uri": "https://localhost:8080/"
        },
        "id": "vlq9yDM7ufiD",
        "outputId": "5769125c-6869-4a8f-b9ba-d7e579f401fa"
      },
      "execution_count": 2,
      "outputs": [
        {
          "output_type": "stream",
          "name": "stdout",
          "text": [
            "Downloading data from https://www.cs.toronto.edu/~kriz/cifar-10-python.tar.gz\n",
            "\u001b[1m170498071/170498071\u001b[0m \u001b[32m━━━━━━━━━━━━━━━━━━━━\u001b[0m\u001b[37m\u001b[0m \u001b[1m5s\u001b[0m 0us/step\n"
          ]
        }
      ]
    },
    {
      "cell_type": "code",
      "source": [
        "x_train.shape # 32*32 size h 3 channels h -- rgb"
      ],
      "metadata": {
        "colab": {
          "base_uri": "https://localhost:8080/"
        },
        "id": "MTPtnDHLvd-T",
        "outputId": "e42a8ac8-8b48-47cd-f19b-262e83e25886"
      },
      "execution_count": 3,
      "outputs": [
        {
          "output_type": "execute_result",
          "data": {
            "text/plain": [
              "(50000, 32, 32, 3)"
            ]
          },
          "metadata": {},
          "execution_count": 3
        }
      ]
    },
    {
      "cell_type": "code",
      "source": [
        "x_test.shape"
      ],
      "metadata": {
        "colab": {
          "base_uri": "https://localhost:8080/"
        },
        "id": "E-KzK_4ro6A7",
        "outputId": "4c2c2e82-e9a6-4728-9d54-bc6afab0bb19"
      },
      "execution_count": 4,
      "outputs": [
        {
          "output_type": "execute_result",
          "data": {
            "text/plain": [
              "(10000, 32, 32, 3)"
            ]
          },
          "metadata": {},
          "execution_count": 4
        }
      ]
    },
    {
      "cell_type": "code",
      "source": [
        "x_train = x_train/255.0\n",
        "x_test = x_test/255.0"
      ],
      "metadata": {
        "id": "0JjvtFg3vqe0"
      },
      "execution_count": 5,
      "outputs": []
    },
    {
      "cell_type": "code",
      "source": [
        "from sklearn.model_selection import train_test_split\n",
        "x_train,x_val,y_train,y_val = train_test_split(x_train,y_train,test_size=0.2,random_state=42)"
      ],
      "metadata": {
        "id": "YRTfBlRbvxZQ"
      },
      "execution_count": 6,
      "outputs": []
    },
    {
      "cell_type": "markdown",
      "source": [
        "# 1. **Conv2D (Convolutional Layer)**\n",
        "\n",
        "####What it does:\n",
        "* The Conv2D layer applies a set of convolutional filters (kernels) to the input image or feature maps to extract features such as edges, textures, and patterns.\n",
        "* Each filter slides (convolves) over the input, performing element-wise multiplication and summing up the results to create a feature map.\n",
        "\n",
        "####Key Parameters:\n",
        "* Filters: Number of filters (kernels) to use (e.g., 32 or 64). Each filter learns to detect a specific feature.\n",
        "* Kernel Size: Size of the filters (e.g., 3x3 or 5x5).\n",
        "* Strides: Step size for moving the filter across the input.\n",
        "* Padding: Decides whether to keep the spatial dimensions unchanged ('same') or reduce them ('valid').\n",
        "\n",
        "\n",
        "\n",
        "# 2. **MaxPooling2D (Pooling Layer)**\n",
        "\n",
        "####What it does:\n",
        "* The MaxPooling2D layer performs downsampling by taking the maximum value in a window (e.g., 2x2) within each feature map.\n",
        "* Reduces the spatial dimensions (height and width) while retaining the most important features.\n",
        "\n",
        "####Key Parameters:\n",
        "* Pool Size: Size of the pooling window (e.g., 2x2 or 3x3).\n",
        "* Strides: Step size for moving the pooling window.\n",
        "* Padding: Whether or not to add padding around the input.\n",
        "\n"
      ],
      "metadata": {
        "id": "sukGwWi4qui7"
      }
    },
    {
      "cell_type": "code",
      "source": [
        "#sequential api , most basic model\n",
        "model = Sequential()  # 32 -- output channel -- hyperparameter, size (3*3)\n",
        "model.add(Conv2D(32,(3,3),activation='relu'))  # 32 - output channels -- how many filters you want to use  --- phele wali layers -- kam filters because woh low level featurs identify karta h\n",
        "model.add(MaxPooling2D())\n",
        "model.add(Conv2D(64,(3,3),activation='relu'))\n",
        "model.add(MaxPooling2D())\n",
        "model.add(Conv2D(128,(3,3),activation='relu'))\n",
        "model.add(MaxPooling2D())\n",
        "model.add(Flatten())\n",
        "model.add(Dense(64,activation='relu'))  # aur non linearity learn kar sake\n",
        "model.add(Dense(10,activation='softmax'))"
      ],
      "metadata": {
        "id": "_I664b4sv9CS"
      },
      "execution_count": 7,
      "outputs": []
    },
    {
      "cell_type": "code",
      "source": [
        "model.compile(optimizer=keras.optimizers.Adam(3e-4),loss=keras.losses.SparseCategoricalCrossentropy(),metrics=['accuracy'])"
      ],
      "metadata": {
        "id": "S3fMR_bcyss3"
      },
      "execution_count": 8,
      "outputs": []
    },
    {
      "cell_type": "code",
      "source": [
        "model.fit(x_train,y_train,batch_size=64,epochs=10,validation_data=(x_val,y_val))"
      ],
      "metadata": {
        "colab": {
          "base_uri": "https://localhost:8080/"
        },
        "id": "2pdfchuny-AM",
        "outputId": "3aaad9e7-ea25-4ab7-90d9-65f1a564005e"
      },
      "execution_count": 9,
      "outputs": [
        {
          "output_type": "stream",
          "name": "stdout",
          "text": [
            "Epoch 1/10\n",
            "\u001b[1m625/625\u001b[0m \u001b[32m━━━━━━━━━━━━━━━━━━━━\u001b[0m\u001b[37m\u001b[0m \u001b[1m9s\u001b[0m 6ms/step - accuracy: 0.2374 - loss: 2.0375 - val_accuracy: 0.4131 - val_loss: 1.5902\n",
            "Epoch 2/10\n",
            "\u001b[1m625/625\u001b[0m \u001b[32m━━━━━━━━━━━━━━━━━━━━\u001b[0m\u001b[37m\u001b[0m \u001b[1m3s\u001b[0m 5ms/step - accuracy: 0.4354 - loss: 1.5526 - val_accuracy: 0.4879 - val_loss: 1.4328\n",
            "Epoch 3/10\n",
            "\u001b[1m625/625\u001b[0m \u001b[32m━━━━━━━━━━━━━━━━━━━━\u001b[0m\u001b[37m\u001b[0m \u001b[1m3s\u001b[0m 4ms/step - accuracy: 0.4998 - loss: 1.3951 - val_accuracy: 0.5231 - val_loss: 1.3400\n",
            "Epoch 4/10\n",
            "\u001b[1m625/625\u001b[0m \u001b[32m━━━━━━━━━━━━━━━━━━━━\u001b[0m\u001b[37m\u001b[0m \u001b[1m3s\u001b[0m 4ms/step - accuracy: 0.5425 - loss: 1.2941 - val_accuracy: 0.5562 - val_loss: 1.2532\n",
            "Epoch 5/10\n",
            "\u001b[1m625/625\u001b[0m \u001b[32m━━━━━━━━━━━━━━━━━━━━\u001b[0m\u001b[37m\u001b[0m \u001b[1m5s\u001b[0m 5ms/step - accuracy: 0.5712 - loss: 1.2190 - val_accuracy: 0.5729 - val_loss: 1.2165\n",
            "Epoch 6/10\n",
            "\u001b[1m625/625\u001b[0m \u001b[32m━━━━━━━━━━━━━━━━━━━━\u001b[0m\u001b[37m\u001b[0m \u001b[1m3s\u001b[0m 5ms/step - accuracy: 0.5930 - loss: 1.1569 - val_accuracy: 0.5934 - val_loss: 1.1590\n",
            "Epoch 7/10\n",
            "\u001b[1m625/625\u001b[0m \u001b[32m━━━━━━━━━━━━━━━━━━━━\u001b[0m\u001b[37m\u001b[0m \u001b[1m3s\u001b[0m 4ms/step - accuracy: 0.6065 - loss: 1.1186 - val_accuracy: 0.5984 - val_loss: 1.1509\n",
            "Epoch 8/10\n",
            "\u001b[1m625/625\u001b[0m \u001b[32m━━━━━━━━━━━━━━━━━━━━\u001b[0m\u001b[37m\u001b[0m \u001b[1m5s\u001b[0m 5ms/step - accuracy: 0.6206 - loss: 1.0824 - val_accuracy: 0.6166 - val_loss: 1.1030\n",
            "Epoch 9/10\n",
            "\u001b[1m625/625\u001b[0m \u001b[32m━━━━━━━━━━━━━━━━━━━━\u001b[0m\u001b[37m\u001b[0m \u001b[1m3s\u001b[0m 5ms/step - accuracy: 0.6376 - loss: 1.0336 - val_accuracy: 0.6226 - val_loss: 1.0782\n",
            "Epoch 10/10\n",
            "\u001b[1m625/625\u001b[0m \u001b[32m━━━━━━━━━━━━━━━━━━━━\u001b[0m\u001b[37m\u001b[0m \u001b[1m3s\u001b[0m 4ms/step - accuracy: 0.6519 - loss: 0.9926 - val_accuracy: 0.6340 - val_loss: 1.0437\n"
          ]
        },
        {
          "output_type": "execute_result",
          "data": {
            "text/plain": [
              "<keras.src.callbacks.history.History at 0x7bdcdf584210>"
            ]
          },
          "metadata": {},
          "execution_count": 9
        }
      ]
    },
    {
      "cell_type": "markdown",
      "source": [
        "## 3. **Batch Normalization** --\n",
        "Batch Normalization ensures that feature maps in CNNs maintain a stable distribution, accelerating training and improving model robustness\n",
        "\n",
        "# **Conv Layer → BatchNorm → Activation (ReLU) → Pooling**\n",
        "\n",
        "Why batch normalization is done before relu?\n",
        "\n",
        "BatchNorm normalizes activations (zero mean, unit variance), which helps avoid extremely large or small values before applying the activation function.\n",
        "\n",
        "* If BatchNorm were applied after ReLU, negative values would be removed,\n",
        "distorting the mean and variance.\n",
        "* When applied before ReLU, it ensures inputs are standardized, making training more stable."
      ],
      "metadata": {
        "id": "OyymwJyaLUpY"
      }
    },
    {
      "cell_type": "code",
      "source": [
        "#functional api\n",
        "inputs = keras.Input(shape=(32,32,3))\n",
        "x=Conv2D(32,(3,3))(inputs)\n",
        "x=BatchNormalization()(x)\n",
        "x=keras.activations.relu(x)\n",
        "x=MaxPooling2D()(x)\n",
        "x=Conv2D(64,(3,3))(x)\n",
        "x=BatchNormalization()(x)\n",
        "x=keras.activations.relu(x)\n",
        "x=MaxPooling2D()(x)\n",
        "x=Conv2D(128,(3,3))(x)\n",
        "x=BatchNormalization()(x)\n",
        "x=keras.activations.relu(x)\n",
        "x=MaxPooling2D()(x)\n",
        "x=Flatten()(x)\n",
        "x=Dense(64,activation='relu')(x)\n",
        "outputs=Dense(10,activation='softmax')(x)\n",
        "model=keras.Model(inputs=inputs,outputs=outputs)  # yeh par model define hota h"
      ],
      "metadata": {
        "id": "RAPrrHBjzVun"
      },
      "execution_count": 10,
      "outputs": []
    },
    {
      "cell_type": "code",
      "source": [
        "model.compile(optimizer=keras.optimizers.Adam(3e-4),loss=keras.losses.SparseCategoricalCrossentropy(),metrics=['accuracy'])"
      ],
      "metadata": {
        "id": "dGUcpwTI0xmo"
      },
      "execution_count": 11,
      "outputs": []
    },
    {
      "cell_type": "code",
      "source": [
        "model.fit(x_train,y_train,batch_size=64,epochs=10,validation_data=(x_val,y_val))"
      ],
      "metadata": {
        "id": "Hfvrrsh506qz",
        "outputId": "4ec044d0-8db7-4b80-d508-2fee8e484b7e",
        "colab": {
          "base_uri": "https://localhost:8080/"
        }
      },
      "execution_count": 12,
      "outputs": [
        {
          "output_type": "stream",
          "name": "stdout",
          "text": [
            "Epoch 1/10\n",
            "\u001b[1m625/625\u001b[0m \u001b[32m━━━━━━━━━━━━━━━━━━━━\u001b[0m\u001b[37m\u001b[0m \u001b[1m9s\u001b[0m 8ms/step - accuracy: 0.3983 - loss: 1.6874 - val_accuracy: 0.4394 - val_loss: 1.6037\n",
            "Epoch 2/10\n",
            "\u001b[1m625/625\u001b[0m \u001b[32m━━━━━━━━━━━━━━━━━━━━\u001b[0m\u001b[37m\u001b[0m \u001b[1m3s\u001b[0m 5ms/step - accuracy: 0.6151 - loss: 1.1006 - val_accuracy: 0.6042 - val_loss: 1.1299\n",
            "Epoch 3/10\n",
            "\u001b[1m625/625\u001b[0m \u001b[32m━━━━━━━━━━━━━━━━━━━━\u001b[0m\u001b[37m\u001b[0m \u001b[1m5s\u001b[0m 5ms/step - accuracy: 0.6789 - loss: 0.9236 - val_accuracy: 0.5478 - val_loss: 1.3117\n",
            "Epoch 4/10\n",
            "\u001b[1m625/625\u001b[0m \u001b[32m━━━━━━━━━━━━━━━━━━━━\u001b[0m\u001b[37m\u001b[0m \u001b[1m5s\u001b[0m 5ms/step - accuracy: 0.7197 - loss: 0.8184 - val_accuracy: 0.6238 - val_loss: 1.1457\n",
            "Epoch 5/10\n",
            "\u001b[1m625/625\u001b[0m \u001b[32m━━━━━━━━━━━━━━━━━━━━\u001b[0m\u001b[37m\u001b[0m \u001b[1m5s\u001b[0m 5ms/step - accuracy: 0.7561 - loss: 0.7171 - val_accuracy: 0.6537 - val_loss: 1.0267\n",
            "Epoch 6/10\n",
            "\u001b[1m625/625\u001b[0m \u001b[32m━━━━━━━━━━━━━━━━━━━━\u001b[0m\u001b[37m\u001b[0m \u001b[1m3s\u001b[0m 5ms/step - accuracy: 0.7821 - loss: 0.6399 - val_accuracy: 0.6257 - val_loss: 1.1286\n",
            "Epoch 7/10\n",
            "\u001b[1m625/625\u001b[0m \u001b[32m━━━━━━━━━━━━━━━━━━━━\u001b[0m\u001b[37m\u001b[0m \u001b[1m3s\u001b[0m 5ms/step - accuracy: 0.8052 - loss: 0.5751 - val_accuracy: 0.6784 - val_loss: 0.9769\n",
            "Epoch 8/10\n",
            "\u001b[1m625/625\u001b[0m \u001b[32m━━━━━━━━━━━━━━━━━━━━\u001b[0m\u001b[37m\u001b[0m \u001b[1m5s\u001b[0m 5ms/step - accuracy: 0.8249 - loss: 0.5112 - val_accuracy: 0.7012 - val_loss: 0.9002\n",
            "Epoch 9/10\n",
            "\u001b[1m625/625\u001b[0m \u001b[32m━━━━━━━━━━━━━━━━━━━━\u001b[0m\u001b[37m\u001b[0m \u001b[1m3s\u001b[0m 5ms/step - accuracy: 0.8480 - loss: 0.4564 - val_accuracy: 0.7003 - val_loss: 0.9442\n",
            "Epoch 10/10\n",
            "\u001b[1m625/625\u001b[0m \u001b[32m━━━━━━━━━━━━━━━━━━━━\u001b[0m\u001b[37m\u001b[0m \u001b[1m5s\u001b[0m 5ms/step - accuracy: 0.8611 - loss: 0.4129 - val_accuracy: 0.6992 - val_loss: 0.9558\n"
          ]
        },
        {
          "output_type": "execute_result",
          "data": {
            "text/plain": [
              "<keras.src.callbacks.history.History at 0x7bdcdad17190>"
            ]
          },
          "metadata": {},
          "execution_count": 12
        }
      ]
    },
    {
      "cell_type": "code",
      "source": [
        "# model overfit ho rha h -- training data par normalisation lgaya h validation par nhi lgaya"
      ],
      "metadata": {
        "id": "GbB6x3mf1PYP"
      },
      "execution_count": null,
      "outputs": []
    },
    {
      "cell_type": "code",
      "source": [
        "#functional api, still overfitting is present and can be reduced\n",
        "inputs = keras.Input(shape=(32,32,3))\n",
        "x=Conv2D(32,(3,3),kernel_regularizer=keras.regularizers.l2(0.001))(inputs)  # L2 Regularization (0.001) → Helps reduce overfitting by penalizing large weights.\n",
        "x=BatchNormalization()(x)\n",
        "x=keras.activations.relu(x)\n",
        "x=MaxPooling2D()(x)\n",
        "\n",
        "x=Conv2D(64,(3,3),kernel_regularizer=keras.regularizers.l2(0.001))(x)\n",
        "x=BatchNormalization()(x)\n",
        "x=keras.activations.relu(x)\n",
        "x=MaxPooling2D()(x)\n",
        "\n",
        "x=Conv2D(128,(3,3),kernel_regularizer=keras.regularizers.l2(0.001))(x)\n",
        "x=BatchNormalization()(x)\n",
        "x=keras.activations.relu(x)\n",
        "x=MaxPooling2D()(x)\n",
        "\n",
        "x=Flatten()(x)\n",
        "x=Dense(64,activation='relu')(x) # Prevents overfitting by randomly dropping 50% of neurons.\n",
        "x=keras.layers.Dropout(0.5)(x)\n",
        "outputs=Dense(10,activation='softmax')(x)\n",
        "model=keras.Model(inputs=inputs,outputs=outputs)"
      ],
      "metadata": {
        "id": "G1JG1I0R1m_Y"
      },
      "execution_count": 13,
      "outputs": []
    },
    {
      "cell_type": "code",
      "source": [
        "model.compile(optimizer=keras.optimizers.Adam(3e-4),loss=keras.losses.SparseCategoricalCrossentropy(),metrics=['accuracy'])"
      ],
      "metadata": {
        "id": "m8h9rTk22khc"
      },
      "execution_count": 14,
      "outputs": []
    },
    {
      "cell_type": "code",
      "source": [
        "model.fit(x_train,y_train,batch_size=64,epochs=10,validation_data=(x_val,y_val))"
      ],
      "metadata": {
        "id": "98E03Up92nCc",
        "outputId": "145dafcc-e481-4787-fadb-78dc77ae5734",
        "colab": {
          "base_uri": "https://localhost:8080/"
        }
      },
      "execution_count": 15,
      "outputs": [
        {
          "output_type": "stream",
          "name": "stdout",
          "text": [
            "Epoch 1/10\n",
            "\u001b[1m625/625\u001b[0m \u001b[32m━━━━━━━━━━━━━━━━━━━━\u001b[0m\u001b[37m\u001b[0m \u001b[1m9s\u001b[0m 7ms/step - accuracy: 0.2737 - loss: 2.2394 - val_accuracy: 0.4579 - val_loss: 1.6574\n",
            "Epoch 2/10\n",
            "\u001b[1m625/625\u001b[0m \u001b[32m━━━━━━━━━━━━━━━━━━━━\u001b[0m\u001b[37m\u001b[0m \u001b[1m3s\u001b[0m 5ms/step - accuracy: 0.4521 - loss: 1.6513 - val_accuracy: 0.5359 - val_loss: 1.4004\n",
            "Epoch 3/10\n",
            "\u001b[1m625/625\u001b[0m \u001b[32m━━━━━━━━━━━━━━━━━━━━\u001b[0m\u001b[37m\u001b[0m \u001b[1m3s\u001b[0m 5ms/step - accuracy: 0.5328 - loss: 1.4442 - val_accuracy: 0.5946 - val_loss: 1.2771\n",
            "Epoch 4/10\n",
            "\u001b[1m625/625\u001b[0m \u001b[32m━━━━━━━━━━━━━━━━━━━━\u001b[0m\u001b[37m\u001b[0m \u001b[1m5s\u001b[0m 5ms/step - accuracy: 0.5770 - loss: 1.3115 - val_accuracy: 0.5572 - val_loss: 1.3287\n",
            "Epoch 5/10\n",
            "\u001b[1m625/625\u001b[0m \u001b[32m━━━━━━━━━━━━━━━━━━━━\u001b[0m\u001b[37m\u001b[0m \u001b[1m5s\u001b[0m 5ms/step - accuracy: 0.6146 - loss: 1.2193 - val_accuracy: 0.6172 - val_loss: 1.1886\n",
            "Epoch 6/10\n",
            "\u001b[1m625/625\u001b[0m \u001b[32m━━━━━━━━━━━━━━━━━━━━\u001b[0m\u001b[37m\u001b[0m \u001b[1m5s\u001b[0m 5ms/step - accuracy: 0.6379 - loss: 1.1486 - val_accuracy: 0.6485 - val_loss: 1.1063\n",
            "Epoch 7/10\n",
            "\u001b[1m625/625\u001b[0m \u001b[32m━━━━━━━━━━━━━━━━━━━━\u001b[0m\u001b[37m\u001b[0m \u001b[1m5s\u001b[0m 5ms/step - accuracy: 0.6538 - loss: 1.0990 - val_accuracy: 0.6829 - val_loss: 1.0325\n",
            "Epoch 8/10\n",
            "\u001b[1m625/625\u001b[0m \u001b[32m━━━━━━━━━━━━━━━━━━━━\u001b[0m\u001b[37m\u001b[0m \u001b[1m3s\u001b[0m 4ms/step - accuracy: 0.6749 - loss: 1.0387 - val_accuracy: 0.6752 - val_loss: 1.0492\n",
            "Epoch 9/10\n",
            "\u001b[1m625/625\u001b[0m \u001b[32m━━━━━━━━━━━━━━━━━━━━\u001b[0m\u001b[37m\u001b[0m \u001b[1m3s\u001b[0m 4ms/step - accuracy: 0.6945 - loss: 0.9828 - val_accuracy: 0.6456 - val_loss: 1.1673\n",
            "Epoch 10/10\n",
            "\u001b[1m625/625\u001b[0m \u001b[32m━━━━━━━━━━━━━━━━━━━━\u001b[0m\u001b[37m\u001b[0m \u001b[1m6s\u001b[0m 5ms/step - accuracy: 0.7083 - loss: 0.9459 - val_accuracy: 0.6472 - val_loss: 1.1321\n"
          ]
        },
        {
          "output_type": "execute_result",
          "data": {
            "text/plain": [
              "<keras.src.callbacks.history.History at 0x7bdcc03de390>"
            ]
          },
          "metadata": {},
          "execution_count": 15
        }
      ]
    },
    {
      "cell_type": "code",
      "source": [
        "class CNNBlock(layers.Layer):   # here base class is Layers not keras.Model(deep nn -- layers only -- dense or flatten)\n",
        "  def __init__(self,num_filters,kernel_size=3):  # relu -- mathematical functions not layer so yeha define nhi kiya\n",
        "    super(CNNBlock,self).__init__()\n",
        "    self.conv = layers.Conv2D(num_filters,kernel_size)\n",
        "    self.bn = layers.BatchNormalization()\n",
        "    self.pool = layers.MaxPooling2D()\n",
        "  def call(self,inputs):\n",
        "    x = self.conv(inputs)\n",
        "    x = self.bn(x)\n",
        "    x = keras.activations.relu(x)\n",
        "    x = self.pool(x)\n",
        "    return x"
      ],
      "metadata": {
        "id": "rYAaNN-fqO5u"
      },
      "execution_count": 16,
      "outputs": []
    },
    {
      "cell_type": "code",
      "source": [
        "model=Sequential(\n",
        "    [\n",
        "       keras.Input(shape=(32,32,3)),\n",
        "       CNNBlock(32),\n",
        "       CNNBlock(64),\n",
        "       CNNBlock(128),\n",
        "       Flatten(),\n",
        "       Dense(64,activation='relu'),\n",
        "       Dense(10,activation='softmax')\n",
        "    ]\n",
        ")"
      ],
      "metadata": {
        "id": "Jq17ADqyr-3s"
      },
      "execution_count": 17,
      "outputs": []
    },
    {
      "cell_type": "code",
      "source": [
        "model.compile(optimizer=keras.optimizers.Adam(3e-4),loss=keras.losses.SparseCategoricalCrossentropy(),metrics=['accuracy'])"
      ],
      "metadata": {
        "id": "D9O9x3cstONK"
      },
      "execution_count": 18,
      "outputs": []
    },
    {
      "cell_type": "code",
      "source": [
        "model.fit(x_train,y_train,batch_size=64,epochs=10,validation_data=(x_val,y_val))"
      ],
      "metadata": {
        "id": "MDhAU7EhtSxy",
        "outputId": "e87bff91-ddcf-47ff-befd-4149f4f3131d",
        "colab": {
          "base_uri": "https://localhost:8080/"
        }
      },
      "execution_count": 19,
      "outputs": [
        {
          "output_type": "stream",
          "name": "stdout",
          "text": [
            "Epoch 1/10\n",
            "\u001b[1m625/625\u001b[0m \u001b[32m━━━━━━━━━━━━━━━━━━━━\u001b[0m\u001b[37m\u001b[0m \u001b[1m8s\u001b[0m 7ms/step - accuracy: 0.4004 - loss: 1.6647 - val_accuracy: 0.5144 - val_loss: 1.3896\n",
            "Epoch 2/10\n",
            "\u001b[1m625/625\u001b[0m \u001b[32m━━━━━━━━━━━━━━━━━━━━\u001b[0m\u001b[37m\u001b[0m \u001b[1m7s\u001b[0m 5ms/step - accuracy: 0.6241 - loss: 1.0648 - val_accuracy: 0.6069 - val_loss: 1.1248\n",
            "Epoch 3/10\n",
            "\u001b[1m625/625\u001b[0m \u001b[32m━━━━━━━━━━━━━━━━━━━━\u001b[0m\u001b[37m\u001b[0m \u001b[1m3s\u001b[0m 4ms/step - accuracy: 0.6911 - loss: 0.8971 - val_accuracy: 0.6574 - val_loss: 1.0087\n",
            "Epoch 4/10\n",
            "\u001b[1m625/625\u001b[0m \u001b[32m━━━━━━━━━━━━━━━━━━━━\u001b[0m\u001b[37m\u001b[0m \u001b[1m3s\u001b[0m 5ms/step - accuracy: 0.7312 - loss: 0.7792 - val_accuracy: 0.6739 - val_loss: 0.9358\n",
            "Epoch 5/10\n",
            "\u001b[1m625/625\u001b[0m \u001b[32m━━━━━━━━━━━━━━━━━━━━\u001b[0m\u001b[37m\u001b[0m \u001b[1m5s\u001b[0m 5ms/step - accuracy: 0.7701 - loss: 0.6836 - val_accuracy: 0.6826 - val_loss: 0.9246\n",
            "Epoch 6/10\n",
            "\u001b[1m625/625\u001b[0m \u001b[32m━━━━━━━━━━━━━━━━━━━━\u001b[0m\u001b[37m\u001b[0m \u001b[1m5s\u001b[0m 5ms/step - accuracy: 0.7929 - loss: 0.6134 - val_accuracy: 0.6971 - val_loss: 0.8951\n",
            "Epoch 7/10\n",
            "\u001b[1m625/625\u001b[0m \u001b[32m━━━━━━━━━━━━━━━━━━━━\u001b[0m\u001b[37m\u001b[0m \u001b[1m3s\u001b[0m 5ms/step - accuracy: 0.8166 - loss: 0.5408 - val_accuracy: 0.6700 - val_loss: 1.0223\n",
            "Epoch 8/10\n",
            "\u001b[1m625/625\u001b[0m \u001b[32m━━━━━━━━━━━━━━━━━━━━\u001b[0m\u001b[37m\u001b[0m \u001b[1m5s\u001b[0m 5ms/step - accuracy: 0.8333 - loss: 0.4957 - val_accuracy: 0.6769 - val_loss: 1.0176\n",
            "Epoch 9/10\n",
            "\u001b[1m625/625\u001b[0m \u001b[32m━━━━━━━━━━━━━━━━━━━━\u001b[0m\u001b[37m\u001b[0m \u001b[1m6s\u001b[0m 5ms/step - accuracy: 0.8590 - loss: 0.4320 - val_accuracy: 0.6979 - val_loss: 0.9522\n",
            "Epoch 10/10\n",
            "\u001b[1m625/625\u001b[0m \u001b[32m━━━━━━━━━━━━━━━━━━━━\u001b[0m\u001b[37m\u001b[0m \u001b[1m3s\u001b[0m 5ms/step - accuracy: 0.8786 - loss: 0.3740 - val_accuracy: 0.6606 - val_loss: 1.0901\n"
          ]
        },
        {
          "output_type": "execute_result",
          "data": {
            "text/plain": [
              "<keras.src.callbacks.history.History at 0x7bdc8d6ee1d0>"
            ]
          },
          "metadata": {},
          "execution_count": 19
        }
      ]
    }
  ]
}