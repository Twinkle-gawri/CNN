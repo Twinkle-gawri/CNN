{
  "nbformat": 4,
  "nbformat_minor": 0,
  "metadata": {
    "colab": {
      "provenance": [],
      "gpuType": "T4",
      "authorship_tag": "ABX9TyMDwR1OW93krsRG3nFi4moH",
      "include_colab_link": true
    },
    "kernelspec": {
      "name": "python3",
      "display_name": "Python 3"
    },
    "language_info": {
      "name": "python"
    },
    "accelerator": "GPU"
  },
  "cells": [
    {
      "cell_type": "markdown",
      "metadata": {
        "id": "view-in-github",
        "colab_type": "text"
      },
      "source": [
        "<a href=\"https://colab.research.google.com/github/Twinkle-gawri/CNN/blob/main/NLP_CNN.ipynb\" target=\"_parent\"><img src=\"https://colab.research.google.com/assets/colab-badge.svg\" alt=\"Open In Colab\"/></a>"
      ]
    },
    {
      "cell_type": "code",
      "source": [
        "!git clone https://github.com/Twinkle-gawri/CNN_Basics.git"
      ],
      "metadata": {
        "colab": {
          "base_uri": "https://localhost:8080/"
        },
        "id": "jZKTXr64oSdC",
        "outputId": "287ddbe8-c9c5-4c63-a092-6d5417a027e6"
      },
      "execution_count": 1,
      "outputs": [
        {
          "output_type": "stream",
          "name": "stdout",
          "text": [
            "Cloning into 'CNN_Basics'...\n",
            "warning: You appear to have cloned an empty repository.\n"
          ]
        }
      ]
    },
    {
      "cell_type": "code",
      "execution_count": null,
      "metadata": {
        "id": "KRtA9qpBqDef"
      },
      "outputs": [],
      "source": [
        "# filter or kernal functions are used 3*3 example\n",
        "# filter -- woh patterns ko detect karta h --> new matrix generate karta woh size small hota h --> patterns learn karta h\n",
        "# padding -- make size same of input and output -- karte nhi h\n",
        "# pooling -- main features learn karti h,dimensions kam karti h\n",
        "# batch normalisation -- values normalise karta h , reasons -- filter different hote h -- output vary karta h bht toh output ko same range me laane ke liye"
      ]
    },
    {
      "cell_type": "code",
      "source": [
        "import tensorflow as tf\n",
        "from tensorflow import keras\n",
        "from tensorflow.keras import layers,Sequential\n",
        "from tensorflow.keras.layers import Dense,Flatten,Conv2D,MaxPooling2D,BatchNormalization\n",
        "from tensorflow.keras.datasets import cifar10"
      ],
      "metadata": {
        "id": "Q4OfbHh7rf_K"
      },
      "execution_count": null,
      "outputs": []
    },
    {
      "cell_type": "code",
      "source": [
        "(x_train,y_train),(x_test,y_test) = cifar10.load_data()"
      ],
      "metadata": {
        "colab": {
          "base_uri": "https://localhost:8080/"
        },
        "id": "vlq9yDM7ufiD",
        "outputId": "a1f310fe-9a25-49ba-eebc-3a5d68bdadec"
      },
      "execution_count": null,
      "outputs": [
        {
          "output_type": "stream",
          "name": "stdout",
          "text": [
            "Downloading data from https://www.cs.toronto.edu/~kriz/cifar-10-python.tar.gz\n",
            "\u001b[1m170498071/170498071\u001b[0m \u001b[32m━━━━━━━━━━━━━━━━━━━━\u001b[0m\u001b[37m\u001b[0m \u001b[1m4s\u001b[0m 0us/step\n"
          ]
        }
      ]
    },
    {
      "cell_type": "code",
      "source": [
        "x_train.shape # 32*32 size h 3 channels h -- rgb"
      ],
      "metadata": {
        "colab": {
          "base_uri": "https://localhost:8080/"
        },
        "id": "MTPtnDHLvd-T",
        "outputId": "274bf8e4-21f4-45d1-e3f8-a82d8733faf9"
      },
      "execution_count": null,
      "outputs": [
        {
          "output_type": "execute_result",
          "data": {
            "text/plain": [
              "(50000, 32, 32, 3)"
            ]
          },
          "metadata": {},
          "execution_count": 4
        }
      ]
    },
    {
      "cell_type": "code",
      "source": [
        "x_test.shape"
      ],
      "metadata": {
        "colab": {
          "base_uri": "https://localhost:8080/"
        },
        "id": "E-KzK_4ro6A7",
        "outputId": "10bb8003-8c39-4cdd-91b3-836fab679112"
      },
      "execution_count": null,
      "outputs": [
        {
          "output_type": "execute_result",
          "data": {
            "text/plain": [
              "(10000, 32, 32, 3)"
            ]
          },
          "metadata": {},
          "execution_count": 3
        }
      ]
    },
    {
      "cell_type": "code",
      "source": [
        "x_train = x_train/255.0\n",
        "x_test = x_test/255.0"
      ],
      "metadata": {
        "id": "0JjvtFg3vqe0"
      },
      "execution_count": null,
      "outputs": []
    },
    {
      "cell_type": "code",
      "source": [
        "from sklearn.model_selection import train_test_split\n",
        "x_train,x_val,y_train,y_val = train_test_split(x_train,y_train,test_size=0.2,random_state=42)"
      ],
      "metadata": {
        "id": "YRTfBlRbvxZQ"
      },
      "execution_count": null,
      "outputs": []
    },
    {
      "cell_type": "markdown",
      "source": [
        "1. **Conv2D (Convolutional Layer)**\n",
        "\n",
        "####What it does:\n",
        "* The Conv2D layer applies a set of convolutional filters (kernels) to the input image or feature maps to extract features such as edges, textures, and patterns.\n",
        "* Each filter slides (convolves) over the input, performing element-wise multiplication and summing up the results to create a feature map.\n",
        "\n",
        "####Key Parameters:\n",
        "* Filters: Number of filters (kernels) to use (e.g., 32 or 64). Each filter learns to detect a specific feature.\n",
        "* Kernel Size: Size of the filters (e.g., 3x3 or 5x5).\n",
        "* Strides: Step size for moving the filter across the input.\n",
        "* Padding: Decides whether to keep the spatial dimensions unchanged ('same') or reduce them ('valid').\n",
        "\n",
        "\n",
        "\n",
        "2. **MaxPooling2D (Pooling Layer)**\n",
        "\n",
        "####What it does:\n",
        "* The MaxPooling2D layer performs downsampling by taking the maximum value in a window (e.g., 2x2) within each feature map.\n",
        "* Reduces the spatial dimensions (height and width) while retaining the most important features.\n",
        "\n",
        "####Key Parameters:\n",
        "* Pool Size: Size of the pooling window (e.g., 2x2 or 3x3).\n",
        "* Strides: Step size for moving the pooling window.\n",
        "* Padding: Whether or not to add padding around the input.\n",
        "\n"
      ],
      "metadata": {
        "id": "sukGwWi4qui7"
      }
    },
    {
      "cell_type": "code",
      "source": [
        "#sequential api\n",
        "model = Sequential()  # 32 -- output channel -- hyperparameter, size (3*3)\n",
        "model.add(Conv2D(32,(3,3),activation='relu'))  # 32 - output channels -- how many filters you want to use  --- phele wali layers -- kam filters because woh low level featurs identify karta h\n",
        "model.add(MaxPooling2D())\n",
        "model.add(Conv2D(64,(3,3),activation='relu'))\n",
        "model.add(MaxPooling2D())\n",
        "model.add(Conv2D(128,(3,3),activation='relu'))\n",
        "model.add(MaxPooling2D())\n",
        "model.add(Flatten())\n",
        "model.add(Dense(64,activation='relu'))  # aur non linearity learn kar sake\n",
        "model.add(Dense(10,activation='softmax'))"
      ],
      "metadata": {
        "id": "_I664b4sv9CS"
      },
      "execution_count": null,
      "outputs": []
    },
    {
      "cell_type": "code",
      "source": [
        "model.compile(optimizer=keras.optimizers.Adam(3e-4),loss=keras.losses.SparseCategoricalCrossentropy(),metrics=['accuracy'])"
      ],
      "metadata": {
        "id": "S3fMR_bcyss3"
      },
      "execution_count": null,
      "outputs": []
    },
    {
      "cell_type": "code",
      "source": [
        "model.fit(x_train,y_train,batch_size=64,epochs=10,validation_data=(x_val,y_val))"
      ],
      "metadata": {
        "colab": {
          "base_uri": "https://localhost:8080/"
        },
        "id": "2pdfchuny-AM",
        "outputId": "682acce3-3c61-430b-bb27-226a818ab0d0"
      },
      "execution_count": null,
      "outputs": [
        {
          "output_type": "stream",
          "name": "stdout",
          "text": [
            "Epoch 1/10\n",
            "\u001b[1m625/625\u001b[0m \u001b[32m━━━━━━━━━━━━━━━━━━━━\u001b[0m\u001b[37m\u001b[0m \u001b[1m66s\u001b[0m 102ms/step - accuracy: 0.2610 - loss: 1.9899 - val_accuracy: 0.4477 - val_loss: 1.5392\n",
            "Epoch 2/10\n",
            "\u001b[1m625/625\u001b[0m \u001b[32m━━━━━━━━━━━━━━━━━━━━\u001b[0m\u001b[37m\u001b[0m \u001b[1m78s\u001b[0m 97ms/step - accuracy: 0.4535 - loss: 1.5012 - val_accuracy: 0.5053 - val_loss: 1.3757\n",
            "Epoch 3/10\n",
            "\u001b[1m625/625\u001b[0m \u001b[32m━━━━━━━━━━━━━━━━━━━━\u001b[0m\u001b[37m\u001b[0m \u001b[1m83s\u001b[0m 99ms/step - accuracy: 0.5091 - loss: 1.3695 - val_accuracy: 0.5422 - val_loss: 1.2926\n",
            "Epoch 4/10\n",
            "\u001b[1m625/625\u001b[0m \u001b[32m━━━━━━━━━━━━━━━━━━━━\u001b[0m\u001b[37m\u001b[0m \u001b[1m80s\u001b[0m 96ms/step - accuracy: 0.5507 - loss: 1.2709 - val_accuracy: 0.5500 - val_loss: 1.2481\n",
            "Epoch 5/10\n",
            "\u001b[1m625/625\u001b[0m \u001b[32m━━━━━━━━━━━━━━━━━━━━\u001b[0m\u001b[37m\u001b[0m \u001b[1m82s\u001b[0m 96ms/step - accuracy: 0.5810 - loss: 1.1932 - val_accuracy: 0.5725 - val_loss: 1.1998\n",
            "Epoch 6/10\n",
            "\u001b[1m625/625\u001b[0m \u001b[32m━━━━━━━━━━━━━━━━━━━━\u001b[0m\u001b[37m\u001b[0m \u001b[1m81s\u001b[0m 95ms/step - accuracy: 0.6088 - loss: 1.1147 - val_accuracy: 0.6058 - val_loss: 1.1359\n",
            "Epoch 7/10\n",
            "\u001b[1m625/625\u001b[0m \u001b[32m━━━━━━━━━━━━━━━━━━━━\u001b[0m\u001b[37m\u001b[0m \u001b[1m83s\u001b[0m 97ms/step - accuracy: 0.6250 - loss: 1.0739 - val_accuracy: 0.6242 - val_loss: 1.0841\n",
            "Epoch 8/10\n",
            "\u001b[1m625/625\u001b[0m \u001b[32m━━━━━━━━━━━━━━━━━━━━\u001b[0m\u001b[37m\u001b[0m \u001b[1m85s\u001b[0m 103ms/step - accuracy: 0.6466 - loss: 1.0296 - val_accuracy: 0.6287 - val_loss: 1.0685\n",
            "Epoch 9/10\n",
            "\u001b[1m625/625\u001b[0m \u001b[32m━━━━━━━━━━━━━━━━━━━━\u001b[0m\u001b[37m\u001b[0m \u001b[1m78s\u001b[0m 96ms/step - accuracy: 0.6569 - loss: 0.9872 - val_accuracy: 0.6325 - val_loss: 1.0602\n",
            "Epoch 10/10\n",
            "\u001b[1m625/625\u001b[0m \u001b[32m━━━━━━━━━━━━━━━━━━━━\u001b[0m\u001b[37m\u001b[0m \u001b[1m81s\u001b[0m 95ms/step - accuracy: 0.6682 - loss: 0.9623 - val_accuracy: 0.6488 - val_loss: 1.0162\n"
          ]
        },
        {
          "output_type": "execute_result",
          "data": {
            "text/plain": [
              "<keras.src.callbacks.history.History at 0x7845c6da1d90>"
            ]
          },
          "metadata": {},
          "execution_count": 10
        }
      ]
    },
    {
      "cell_type": "code",
      "source": [
        "#functional api\n",
        "inputs = keras.Input(shape=(32,32,3))\n",
        "x=Conv2D(32,(3,3))(inputs) # no activation -- batch normal. lga rhe toh baad me act. fxn lgate h -- why -- true feature map ka normalization nhi hoga --\n",
        "x=BatchNormalization()(x)\n",
        "x=keras.activations.relu(x)\n",
        "x=MaxPooling2D()(x)\n",
        "x=Conv2D(64,(3,3))(x)\n",
        "x=BatchNormalization()(x)\n",
        "x=keras.activations.relu(x)\n",
        "x=MaxPooling2D()(x)\n",
        "x=Conv2D(128,(3,3))(x)\n",
        "x=BatchNormalization()(x)\n",
        "x=keras.activations.relu(x)\n",
        "x=MaxPooling2D()(x)\n",
        "x=Flatten()(x)\n",
        "x=Dense(64,activation='relu')(x)\n",
        "outputs=Dense(10,activation='softmax')(x)\n",
        "model=keras.Model(inputs=inputs,outputs=outputs)  # yeh par model define hota h"
      ],
      "metadata": {
        "id": "RAPrrHBjzVun"
      },
      "execution_count": null,
      "outputs": []
    },
    {
      "cell_type": "code",
      "source": [
        "model.compile(optimizer=keras.optimizers.Adam(3e-4),loss=keras.losses.SparseCategoricalCrossentropy(),metrics=['accuracy'])"
      ],
      "metadata": {
        "id": "dGUcpwTI0xmo"
      },
      "execution_count": null,
      "outputs": []
    },
    {
      "cell_type": "code",
      "source": [
        "model.fit(x_train,y_train,batch_size=64,epochs=10,validation_data=(x_val,y_val))"
      ],
      "metadata": {
        "id": "Hfvrrsh506qz"
      },
      "execution_count": null,
      "outputs": []
    },
    {
      "cell_type": "code",
      "source": [
        "# model overfit ho rha h -- training data par normalisation lgaya h validation par nhi lgaya"
      ],
      "metadata": {
        "id": "GbB6x3mf1PYP"
      },
      "execution_count": null,
      "outputs": []
    },
    {
      "cell_type": "code",
      "source": [
        "#functional api\n",
        "inputs = keras.Input(shape=(32,32,3))\n",
        "x=Conv2D(32,(3,3),kernel_regularizer=keras.regularizers.l2(0.001))(inputs) # no activation -- batch normal. lga rhe toh baad me act. fxn lgate h -- why -- true feature map ka normalization nhi hoga --\n",
        "x=BatchNormalization()(x)\n",
        "x=keras.activations.relu(x)\n",
        "x=MaxPooling2D()(x)\n",
        "x=Conv2D(64,(3,3),kernel_regularizer=keras.regularizers.l2(0.001))(x) # overfitting ke liye\n",
        "x=BatchNormalization()(x)\n",
        "x=keras.activations.relu(x)\n",
        "x=MaxPooling2D()(x)\n",
        "x=Conv2D(128,(3,3),kernel_regularizer=keras.regularizers.l2(0.001))(x)\n",
        "x=BatchNormalization()(x)\n",
        "x=keras.activations.relu(x)\n",
        "x=MaxPooling2D()(x)\n",
        "x=Flatten()(x)\n",
        "x=Dense(64,activation='relu')(x)\n",
        "x=keras.layers.Dropout(0.5)(x) # overfitting ke liye\n",
        "outputs=Dense(10,activation='softmax')(x)\n",
        "model=keras.Model(inputs=inputs,outputs=outputs)  # yeh par model define hota h"
      ],
      "metadata": {
        "id": "G1JG1I0R1m_Y"
      },
      "execution_count": null,
      "outputs": []
    },
    {
      "cell_type": "code",
      "source": [
        "model.compile(optimizer=keras.optimizers.Adam(3e-4),loss=keras.losses.SparseCategoricalCrossentropy(),metrics=['accuracy'])"
      ],
      "metadata": {
        "id": "m8h9rTk22khc"
      },
      "execution_count": null,
      "outputs": []
    },
    {
      "cell_type": "code",
      "source": [
        "model.fit(x_train,y_train,batch_size=64,epochs=10,validation_data=(x_val,y_val))"
      ],
      "metadata": {
        "id": "98E03Up92nCc"
      },
      "execution_count": null,
      "outputs": []
    },
    {
      "cell_type": "code",
      "source": [
        "# transfer learning -- trained a model on large dataset , using a same model on small dataset to train -- output and input layers are changing\n",
        "# fine tuning -- kuch layers ko re train karna h -- depends on ours choice -- few or all layers\n",
        "# fine tuning and training from scratch -- randomly weights hoge toh fine tuning is better"
      ],
      "metadata": {
        "id": "3c__vQronOOU"
      },
      "execution_count": null,
      "outputs": []
    },
    {
      "cell_type": "code",
      "source": [
        "class CNNBlock(layers.Layer):   # here base class is Layers not keras.Model(deep nn -- layers only -- dense or flatten)\n",
        "  def __init__(self,num_filters,kernel_size=3):  # relu -- mathematical functions not layer so yeha define nhi kiya\n",
        "    super(CNNBlock,self).__init__()\n",
        "    self.conv = layers.Conv2D(num_filters,kernel_size)\n",
        "    self.bn = layers.BatchNormalization()\n",
        "    self.pool = layers.MaxPooling2D()\n",
        "  def call(self,inputs):\n",
        "    x = self.conv(inputs)\n",
        "    x = self.bn(x)\n",
        "    x = keras.activations.relu(x)\n",
        "    x = self.pool(x)\n",
        "    return x"
      ],
      "metadata": {
        "id": "rYAaNN-fqO5u"
      },
      "execution_count": null,
      "outputs": []
    },
    {
      "cell_type": "code",
      "source": [
        "model=Sequential(\n",
        "    [\n",
        "       keras.Input(shape=(32,32,3)),\n",
        "       CNNBlock(32),\n",
        "       CNNBlock(64),\n",
        "       CNNBlock(128),\n",
        "       Flatten(),\n",
        "       Dense(64,activation='relu'),\n",
        "       Dense(10,activation='softmax')\n",
        "    ]\n",
        ")"
      ],
      "metadata": {
        "id": "Jq17ADqyr-3s"
      },
      "execution_count": null,
      "outputs": []
    },
    {
      "cell_type": "code",
      "source": [
        "model.compile(optimizer=keras.optimizers.Adam(3e-4),loss=keras.losses.SparseCategoricalCrossentropy(),metrics=['accuracy'])"
      ],
      "metadata": {
        "id": "D9O9x3cstONK"
      },
      "execution_count": null,
      "outputs": []
    },
    {
      "cell_type": "code",
      "source": [
        "model.fit(x_train,y_train,batch_size=64,epochs=10,validation_data=(x_val,y_val))"
      ],
      "metadata": {
        "id": "MDhAU7EhtSxy"
      },
      "execution_count": null,
      "outputs": []
    },
    {
      "cell_type": "code",
      "source": [
        "#saving weights and saving models\n",
        "# sub classing me saving karte time sirf sequential wala block save hota h toh jab load karte h toh hume custom object banana hota h"
      ],
      "metadata": {
        "id": "QJDOwgQgwDDq"
      },
      "execution_count": null,
      "outputs": []
    },
    {
      "cell_type": "code",
      "source": [
        "# tf -- data wrapper lib. for pre processing"
      ],
      "metadata": {
        "id": "BV3qXcgcx1zV"
      },
      "execution_count": null,
      "outputs": []
    }
  ]
}